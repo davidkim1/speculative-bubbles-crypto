{
  "cells": [
    {
      "cell_type": "code",
      "source": [
        "%%capture\n",
        "!pip install numpy\n",
        "!pip install pandas\n",
        "!pip install requests\n",
        "!pip install pandas_datareader\n",
        "!pip install yfinance\n",
        "!pip install math\n",
        "!pip install statsmodels"
      ],
      "metadata": {
        "id": "bk_4GenmitKf"
      },
      "execution_count": null,
      "outputs": []
    },
    {
      "cell_type": "code",
      "execution_count": null,
      "metadata": {
        "id": "gdw4eXB4OuuS"
      },
      "outputs": [],
      "source": [
        "import numpy as np\n",
        "import pandas as pd\n",
        "import requests\n",
        "import matplotlib.pyplot as plt\n",
        "import statsmodels.api as sm\n",
        "\n",
        "# package to download data, from pandas \n",
        "import pandas_datareader as web\n",
        "\n",
        "# packages to work with time and dates\n",
        "\n",
        "import datetime as dt\n",
        "import matplotlib.dates as mdates\n",
        "import math\n",
        "\n",
        "import warnings\n",
        "warnings.simplefilter(action='ignore', category=FutureWarning)"
      ]
    },
    {
      "cell_type": "markdown",
      "metadata": {
        "id": "c2Kg6TA2iWac"
      },
      "source": [
        "# Attempting to replicate the paper results (2019-01-01 to 2019-07-17)"
      ]
    },
    {
      "cell_type": "code",
      "execution_count": null,
      "metadata": {
        "id": "HktG5AMqPRY0"
      },
      "outputs": [],
      "source": [
        "start = pd.to_datetime(['2019-01-01']).astype(int)[0]//10**9 # convert to unix timestamp.\n",
        "end = pd.to_datetime(['2019-07-17']).astype(int)[0]//10**9 # convert to unix timestamp.\n",
        "url = 'https://query1.finance.yahoo.com/v7/finance/download/' + 'BTC-USD' + '?period1=' + str(start) + '&period2=' + str(end) + '&interval=1d&events=history'\n",
        "df = pd.read_csv(url)\n",
        "\n",
        "S=df.Close.tolist()"
      ]
    },
    {
      "cell_type": "code",
      "execution_count": null,
      "metadata": {
        "colab": {
          "base_uri": "https://localhost:8080/",
          "height": 265
        },
        "id": "_XlBfMX8q8QO",
        "outputId": "111e95a1-c7bf-40e3-dfce-d81351769c5a"
      },
      "outputs": [
        {
          "output_type": "display_data",
          "data": {
            "text/plain": [
              "<Figure size 432x288 with 1 Axes>"
            ],
            "image/png": "[encoded data removed]"
          },
          "metadata": {
            "needs_background": "light"
          }
        }
      ],
      "source": [
        "plt.plot(pd.to_datetime(df.Date), df.Close)\n",
        "\n",
        "plt.show()"
      ]
    },
    {
      "cell_type": "code",
      "execution_count": null,
      "metadata": {
        "id": "nZ3NEnN-iWaj",
        "outputId": "80350d98-9bd5-4e6a-b1b2-f2d0c58d0161",
        "colab": {
          "base_uri": "https://localhost:8080/"
        }
      },
      "outputs": [
        {
          "output_type": "execute_result",
          "data": {
            "text/plain": [
              "count      198.000000\n",
              "mean      6042.811293\n",
              "std       2706.394802\n",
              "min       3399.471680\n",
              "25%       3860.791565\n",
              "50%       5093.062745\n",
              "75%       7998.851196\n",
              "max      13016.231445\n",
              "Name: Close, dtype: float64"
            ]
          },
          "metadata": {},
          "execution_count": 21
        }
      ],
      "source": [
        "df.Close.describe()"
      ]
    },
    {
      "cell_type": "code",
      "execution_count": null,
      "metadata": {
        "colab": {
          "base_uri": "https://localhost:8080/"
        },
        "id": "e7LUN_8ErILq",
        "outputId": "c93773c4-da88-4dd0-f48f-beb15c181078"
      },
      "outputs": [
        {
          "output_type": "stream",
          "name": "stdout",
          "text": [
            "16\n"
          ]
        },
        {
          "output_type": "execute_result",
          "data": {
            "text/plain": [
              "[3300,\n",
              " 3600,\n",
              " 3900,\n",
              " 4200,\n",
              " 4500,\n",
              " 4800,\n",
              " 5100,\n",
              " 5400,\n",
              " 5700,\n",
              " 6000,\n",
              " 6300,\n",
              " 6600,\n",
              " 6900,\n",
              " 7200,\n",
              " 7500,\n",
              " 7800]"
            ]
          },
          "metadata": {},
          "execution_count": 22
        }
      ],
      "source": [
        "X = list(range(3300, 8000, 300))\n",
        "print(len(X))\n",
        "X"
      ]
    },
    {
      "cell_type": "code",
      "execution_count": null,
      "metadata": {
        "id": "z9XiAQO_Rb15"
      },
      "outputs": [],
      "source": [
        "def volatilityEstimator(X): # X is a list of price samples\n",
        "    h = 500\n",
        "    numerator = 0\n",
        "    sigma = []\n",
        "    counter = 0\n",
        "    n = len(S)\n",
        "    \n",
        "    for x in X: \n",
        "        for i in range(len(S)-1):\n",
        "            if((abs(S[i] - x)) < (h)):\n",
        "                numerator += n*((S[i+1]-S[i])**2)\n",
        "                counter +=1\n",
        "        if (numerator != 0):\n",
        "            sigma.append(np.sqrt(numerator/counter))\n",
        "        if (numerator == 0):\n",
        "            sigma.append(np.nan)\n",
        "        numerator = 0\n",
        "        counter = 0\n",
        "    return sigma"
      ]
    },
    {
      "cell_type": "code",
      "execution_count": null,
      "metadata": {
        "colab": {
          "base_uri": "https://localhost:8080/",
          "height": 280
        },
        "id": "tg7H3iBULA-A",
        "outputId": "2efa3185-fbe7-4ac5-f534-c49244c56e7c"
      },
      "outputs": [
        {
          "output_type": "display_data",
          "data": {
            "text/plain": [
              "<Figure size 432x288 with 1 Axes>"
            ],
            "image/png": "[encoded data removed]"
          },
          "metadata": {
            "needs_background": "light"
          }
        }
      ],
      "source": [
        "fig,ax = plt.subplots(1)\n",
        "\n",
        "# plot the data\n",
        "ax.scatter(X, volatilityEstimator(X))\n",
        "ax.set_xlabel(\"Price\")\n",
        "ax.set_ylabel(\"Estimated Volatility\")\n",
        "\n",
        "plt.show()"
      ]
    },
    {
      "cell_type": "code",
      "execution_count": null,
      "metadata": {
        "id": "9j5q9ugbxNaa"
      },
      "outputs": [],
      "source": [
        "pairs = [(X[i], volatilityEstimator(X)[i]) for i in range(len(X))]"
      ]
    },
    {
      "cell_type": "code",
      "execution_count": null,
      "metadata": {
        "id": "icPW7CHixQni"
      },
      "outputs": [],
      "source": [
        "def theta(i, j): # i and j are indicies of the `pairs` list\n",
        "    sigdiff = (pairs[i][1] - pairs[j][1])\n",
        "    sdiff = (pairs[i][0] - pairs[j][0])\n",
        "    return math.degrees(math.atan(sigdiff/sdiff))\n",
        "\n",
        "# lower convex hull\n",
        "i = 0\n",
        "lch = [pairs[i]]\n",
        "while (i < len(X) -1):\n",
        "    angles = {x:theta(x, i) for x in range(len(pairs)) if x>i}\n",
        "    i = min(angles, key=angles.get)\n",
        "    lch.append(pairs[i])\n",
        "\n",
        "# upper convex hull\n",
        "i = 0\n",
        "uch = [pairs[i]]\n",
        "while (i < len(X) -1):\n",
        "    angles = {x:theta(x, i) for x in range(len(pairs)) if x>i}\n",
        "    i = max(angles, key=angles.get)\n",
        "    uch.append(pairs[i])"
      ]
    },
    {
      "cell_type": "code",
      "execution_count": null,
      "metadata": {
        "id": "lpzUPVRs0AXG"
      },
      "outputs": [],
      "source": [
        "# interpolate the convex hulls (linear interpolation)\n",
        "lch_interpolated = pd.Series({x[0]: x[1] for x in lch}, index=X, name='lch').interpolate()\n",
        "uch_interpolated = pd.Series({x[0]: x[1] for x in uch}, index=X, name='uch').interpolate()"
      ]
    },
    {
      "cell_type": "code",
      "execution_count": null,
      "metadata": {
        "id": "nuio9qRHiWal",
        "outputId": "9f35cccc-e3ea-4276-d03a-9acca3786b51",
        "colab": {
          "base_uri": "https://localhost:8080/",
          "height": 280
        }
      },
      "outputs": [
        {
          "output_type": "display_data",
          "data": {
            "text/plain": [
              "<Figure size 432x288 with 1 Axes>"
            ],
            "image/png": "[encoded data removed]"
          },
          "metadata": {
            "needs_background": "light"
          }
        }
      ],
      "source": [
        "fig,ax = plt.subplots(1)\n",
        "\n",
        "# convex hulls\n",
        "ax.plot([x[0] for x in lch], [x[1] for x in lch], color = 'green')\n",
        "ax.plot([x[0] for x in uch], [x[1] for x in uch], color = 'red')\n",
        "\n",
        "# interpolated points\n",
        "ax.scatter(X, lch_interpolated, color='pink')\n",
        "ax.scatter(X, uch_interpolated, color='orange')\n",
        "\n",
        "# point estimates \n",
        "ax.scatter(X, volatilityEstimator(X))\n",
        "\n",
        "ax.set_xlabel(\"Price\")\n",
        "ax.set_ylabel(\"Estimated Volatility\")\n",
        "\n",
        "plt.show()"
      ]
    },
    {
      "cell_type": "code",
      "execution_count": null,
      "metadata": {
        "scrolled": true,
        "id": "CptqTEffiWam",
        "outputId": "9680ff53-a766-4e54-fa24-837a6946d96c",
        "colab": {
          "base_uri": "https://localhost:8080/",
          "height": 206
        }
      },
      "outputs": [
        {
          "output_type": "execute_result",
          "data": {
            "text/plain": [
              "   price          lch          uch   log_lch   log_uch  log_price\n",
              "0   3300  1098.623172  1098.623172  7.001813  7.001813   8.101678\n",
              "1   3600  1095.698654  1883.089083  6.999147  7.540669   8.188689\n",
              "2   3900  1106.683841  2667.554995  7.009123  7.888918   8.268732\n",
              "3   4200  1117.669027  3452.020907  7.019001  8.146715   8.342840\n",
              "4   4500  1128.654213  4236.486819  7.028781  8.351490   8.411833"
            ],
            "text/html": [
              "\n",
              "  <div id=\"df-5b17dd07-ed52-4e78-832e-c81422ff1d84\">\n",
              "    <div class=\"colab-df-container\">\n",
              "      <div>\n",
              "<style scoped>\n",
              "    .dataframe tbody tr th:only-of-type {\n",
              "        vertical-align: middle;\n",
              "    }\n",
              "\n",
              "    .dataframe tbody tr th {\n",
              "        vertical-align: top;\n",
              "    }\n",
              "\n",
              "    .dataframe thead th {\n",
              "        text-align: right;\n",
              "    }\n",
              "</style>\n",
              "<table border=\"1\" class=\"dataframe\">\n",
              "  <thead>\n",
              "    <tr style=\"text-align: right;\">\n",
              "      <th></th>\n",
              "      <th>price</th>\n",
              "      <th>lch</th>\n",
              "      <th>uch</th>\n",
              "      <th>log_lch</th>\n",
              "      <th>log_uch</th>\n",
              "      <th>log_price</th>\n",
              "    </tr>\n",
              "  </thead>\n",
              "  <tbody>\n",
              "    <tr>\n",
              "      <th>0</th>\n",
              "      <td>3300</td>\n",
              "      <td>1098.623172</td>\n",
              "      <td>1098.623172</td>\n",
              "      <td>7.001813</td>\n",
              "      <td>7.001813</td>\n",
              "      <td>8.101678</td>\n",
              "    </tr>\n",
              "    <tr>\n",
              "      <th>1</th>\n",
              "      <td>3600</td>\n",
              "      <td>1095.698654</td>\n",
              "      <td>1883.089083</td>\n",
              "      <td>6.999147</td>\n",
              "      <td>7.540669</td>\n",
              "      <td>8.188689</td>\n",
              "    </tr>\n",
              "    <tr>\n",
              "      <th>2</th>\n",
              "      <td>3900</td>\n",
              "      <td>1106.683841</td>\n",
              "      <td>2667.554995</td>\n",
              "      <td>7.009123</td>\n",
              "      <td>7.888918</td>\n",
              "      <td>8.268732</td>\n",
              "    </tr>\n",
              "    <tr>\n",
              "      <th>3</th>\n",
              "      <td>4200</td>\n",
              "      <td>1117.669027</td>\n",
              "      <td>3452.020907</td>\n",
              "      <td>7.019001</td>\n",
              "      <td>8.146715</td>\n",
              "      <td>8.342840</td>\n",
              "    </tr>\n",
              "    <tr>\n",
              "      <th>4</th>\n",
              "      <td>4500</td>\n",
              "      <td>1128.654213</td>\n",
              "      <td>4236.486819</td>\n",
              "      <td>7.028781</td>\n",
              "      <td>8.351490</td>\n",
              "      <td>8.411833</td>\n",
              "    </tr>\n",
              "  </tbody>\n",
              "</table>\n",
              "</div>\n",
              "      <button class=\"colab-df-convert\" onclick=\"convertToInteractive('df-5b17dd07-ed52-4e78-832e-c81422ff1d84')\"\n",
              "              title=\"Convert this dataframe to an interactive table.\"\n",
              "              style=\"display:none;\">\n",
              "        \n",
              "  <svg xmlns=\"http://www.w3.org/2000/svg\" height=\"24px\"viewBox=\"0 0 24 24\"\n",
              "       width=\"24px\">\n",
              "    <path d=\"M0 0h24v24H0V0z\" fill=\"none\"/>\n",
              "    <path d=\"M18.56 5.44l.94 2.06.94-2.06 2.06-.94-2.06-.94-.94-2.06-.94 2.06-2.06.94zm-11 1L8.5 8.5l.94-2.06 2.06-.94-2.06-.94L8.5 2.5l-.94 2.06-2.06.94zm10 10l.94 2.06.94-2.06 2.06-.94-2.06-.94-.94-2.06-.94 2.06-2.06.94z\"/><path d=\"M17.41 7.96l-1.37-1.37c-.4-.4-.92-.59-1.43-.59-.52 0-1.04.2-1.43.59L10.3 9.45l-7.72 7.72c-.78.78-.78 2.05 0 2.83L4 21.41c.39.39.9.59 1.41.59.51 0 1.02-.2 1.41-.59l7.78-7.78 2.81-2.81c.8-.78.8-2.07 0-2.86zM5.41 20L4 18.59l7.72-7.72 1.47 1.35L5.41 20z\"/>\n",
              "  </svg>\n",
              "      </button>\n",
              "      \n",
              "  <style>\n",
              "    .colab-df-container {\n",
              "      display:flex;\n",
              "      flex-wrap:wrap;\n",
              "      gap: 12px;\n",
              "    }\n",
              "\n",
              "    .colab-df-convert {\n",
              "      background-color: #E8F0FE;\n",
              "      border: none;\n",
              "      border-radius: 50%;\n",
              "      cursor: pointer;\n",
              "      display: none;\n",
              "      fill: #1967D2;\n",
              "      height: 32px;\n",
              "      padding: 0 0 0 0;\n",
              "      width: 32px;\n",
              "    }\n",
              "\n",
              "    .colab-df-convert:hover {\n",
              "      background-color: #E2EBFA;\n",
              "      box-shadow: 0px 1px 2px rgba(60, 64, 67, 0.3), 0px 1px 3px 1px rgba(60, 64, 67, 0.15);\n",
              "      fill: #174EA6;\n",
              "    }\n",
              "\n",
              "    [theme=dark] .colab-df-convert {\n",
              "      background-color: #3B4455;\n",
              "      fill: #D2E3FC;\n",
              "    }\n",
              "\n",
              "    [theme=dark] .colab-df-convert:hover {\n",
              "      background-color: #434B5C;\n",
              "      box-shadow: 0px 1px 3px 1px rgba(0, 0, 0, 0.15);\n",
              "      filter: drop-shadow(0px 1px 2px rgba(0, 0, 0, 0.3));\n",
              "      fill: #FFFFFF;\n",
              "    }\n",
              "  </style>\n",
              "\n",
              "      <script>\n",
              "        const buttonEl =\n",
              "          document.querySelector('#df-5b17dd07-ed52-4e78-832e-c81422ff1d84 button.colab-df-convert');\n",
              "        buttonEl.style.display =\n",
              "          google.colab.kernel.accessAllowed ? 'block' : 'none';\n",
              "\n",
              "        async function convertToInteractive(key) {\n",
              "          const element = document.querySelector('#df-5b17dd07-ed52-4e78-832e-c81422ff1d84');\n",
              "          const dataTable =\n",
              "            await google.colab.kernel.invokeFunction('convertToInteractive',\n",
              "                                                     [key], {});\n",
              "          if (!dataTable) return;\n",
              "\n",
              "          const docLinkHtml = 'Like what you see? Visit the ' +\n",
              "            '<a target=\"_blank\" href=https://colab.research.google.com/notebooks/data_table.ipynb>data table notebook</a>'\n",
              "            + ' to learn more about interactive tables.';\n",
              "          element.innerHTML = '';\n",
              "          dataTable['output_type'] = 'display_data';\n",
              "          await google.colab.output.renderOutput(dataTable, element);\n",
              "          const docLink = document.createElement('div');\n",
              "          docLink.innerHTML = docLinkHtml;\n",
              "          element.appendChild(docLink);\n",
              "        }\n",
              "      </script>\n",
              "    </div>\n",
              "  </div>\n",
              "  "
            ]
          },
          "metadata": {},
          "execution_count": 29
        }
      ],
      "source": [
        "# transform variables for OLS\n",
        "hull = pd.concat([lch_interpolated, uch_interpolated], axis=1).reset_index().rename(columns={'index': 'price'})\n",
        "hull['log_lch'] = np.log(hull.lch)\n",
        "hull['log_uch'] = np.log(hull.uch)\n",
        "hull['log_price'] = np.log(hull.price)\n",
        "hull.head()"
      ]
    },
    {
      "cell_type": "code",
      "execution_count": null,
      "metadata": {
        "id": "kZc7Chsk0DZK",
        "outputId": "146bde80-92d9-4fed-d8bb-ecf31d9c18a8",
        "colab": {
          "base_uri": "https://localhost:8080/"
        }
      },
      "outputs": [
        {
          "output_type": "stream",
          "name": "stdout",
          "text": [
            "Test ends. There is a bubble.\n"
          ]
        }
      ],
      "source": [
        "# Hypothesis testing\n",
        "\n",
        "#upper bound on integral\n",
        "Y1 = hull.log_lch\n",
        "X1 = hull.log_price\n",
        "X1 = sm.add_constant(X1)\n",
        "model1 = sm.OLS(Y1,X1)\n",
        "\n",
        "results1 = model1.fit()\n",
        "\n",
        "if (results1.params['log_price'] > 1 + 1.645*results1.bse['log_price']):\n",
        "    # reject the null hypothesis of \"No bubble\"\n",
        "    print(\"Test ends. There is a bubble.\")\n",
        "else: \n",
        "    print(\"Upper bound inconclusive--testing lower bound.\")\n",
        "    #lower bound on integral\n",
        "    Y2 = hull.log_uch\n",
        "    X2 = hull.log_price\n",
        "    X2 = sm.add_constant(X2)\n",
        "    model2 = sm.OLS(Y2,X2)\n",
        "\n",
        "    results2 = model2.fit()\n",
        "    \n",
        "    if (results2.params['log_price'] <= 1 - 1.645*results2.bse['log_price']):\n",
        "        # reject the null hypothesis of \"There is a bubble\"\n",
        "        print(\"Test ends. There is no bubble.\")\n",
        "    else: \n",
        "        print(\"Test inconclusive.\")"
      ]
    },
    {
      "cell_type": "markdown",
      "metadata": {
        "id": "DTQ-Oe2diWan"
      },
      "source": [
        "---\n",
        "\n",
        "# 2021-07-18 to 2022-01-28"
      ]
    },
    {
      "cell_type": "code",
      "execution_count": null,
      "metadata": {
        "id": "ACfX95Q5iWan"
      },
      "outputs": [],
      "source": [
        "start = pd.to_datetime(['2021-07-18']).astype(int)[0]//10**9 # convert to unix timestamp.\n",
        "end = pd.to_datetime(['2022-01-28']).astype(int)[0]//10**9 # convert to unix timestamp.\n",
        "url = 'https://query1.finance.yahoo.com/v7/finance/download/' + 'BTC-USD' + '?period1=' + str(start) + '&period2=' + str(end) + '&interval=1d&events=history'\n",
        "df = pd.read_csv(url)\n",
        "\n",
        "S=df.Close.tolist()"
      ]
    },
    {
      "cell_type": "code",
      "execution_count": null,
      "metadata": {
        "colab": {
          "base_uri": "https://localhost:8080/",
          "height": 265
        },
        "outputId": "211b0a6c-2005-46bc-ced6-bf052c3063d4",
        "id": "xO0jQXDniWan"
      },
      "outputs": [
        {
          "output_type": "display_data",
          "data": {
            "text/plain": [
              "<Figure size 432x288 with 1 Axes>"
            ],
            "image/png": "[encoded data removed]"
          },
          "metadata": {
            "needs_background": "light"
          }
        }
      ],
      "source": [
        "plt.plot(pd.to_datetime(df.Date), df.Close)\n",
        "\n",
        "plt.show()"
      ]
    },
    {
      "cell_type": "code",
      "execution_count": null,
      "metadata": {
        "colab": {
          "base_uri": "https://localhost:8080/"
        },
        "outputId": "55be7f2c-1296-4700-fd1e-04c11f3385b1",
        "id": "MRr83JGniWao"
      },
      "outputs": [
        {
          "output_type": "stream",
          "name": "stdout",
          "text": [
            "17\n"
          ]
        },
        {
          "output_type": "execute_result",
          "data": {
            "text/plain": [
              "[32000,\n",
              " 34000,\n",
              " 36000,\n",
              " 38000,\n",
              " 40000,\n",
              " 42000,\n",
              " 44000,\n",
              " 46000,\n",
              " 48000,\n",
              " 50000,\n",
              " 52000,\n",
              " 54000,\n",
              " 56000,\n",
              " 58000,\n",
              " 60000,\n",
              " 62000,\n",
              " 64000]"
            ]
          },
          "metadata": {},
          "execution_count": 33
        }
      ],
      "source": [
        "X = list(range(32000, 66000, 2000))\n",
        "print(len(X))\n",
        "X"
      ]
    },
    {
      "cell_type": "code",
      "execution_count": null,
      "metadata": {
        "colab": {
          "base_uri": "https://localhost:8080/",
          "height": 281
        },
        "outputId": "3d93fec9-0c46-4dac-e57d-39af75800a51",
        "id": "eeKsIN__iWao"
      },
      "outputs": [
        {
          "output_type": "display_data",
          "data": {
            "text/plain": [
              "<Figure size 432x288 with 1 Axes>"
            ],
            "image/png": "[encoded data removed]"
          },
          "metadata": {
            "needs_background": "light"
          }
        }
      ],
      "source": [
        "fig,ax = plt.subplots(1)\n",
        "\n",
        "# plot the data\n",
        "ax.scatter(X, volatilityEstimator(X))\n",
        "ax.set_xlabel(\"Price\")\n",
        "ax.set_ylabel(\"Estimated Volatility\")\n",
        "plt.show()"
      ]
    },
    {
      "cell_type": "code",
      "execution_count": null,
      "metadata": {
        "id": "RxbD790jiWao"
      },
      "outputs": [],
      "source": [
        "pairs = [(X[i], volatilityEstimator(X)[i]) for i in range(len(X))]"
      ]
    },
    {
      "cell_type": "code",
      "execution_count": null,
      "metadata": {
        "id": "EYELuyftiWao"
      },
      "outputs": [],
      "source": [
        "# lower convex hull\n",
        "i = 0\n",
        "lch = [pairs[i]]\n",
        "while (i < len(X) -1):\n",
        "    angles = {x:theta(x, i) for x in range(len(pairs)) if x>i}\n",
        "    i = min(angles, key=angles.get)\n",
        "    lch.append(pairs[i])\n",
        "\n",
        "# upper convex hull\n",
        "i = 0\n",
        "uch = [pairs[i]]\n",
        "while (i < len(X) -1):\n",
        "    angles = {x:theta(x, i) for x in range(len(pairs)) if x>i}\n",
        "    i = max(angles, key=angles.get)\n",
        "    uch.append(pairs[i])"
      ]
    },
    {
      "cell_type": "code",
      "execution_count": null,
      "metadata": {
        "id": "QbpVaHbAiWap"
      },
      "outputs": [],
      "source": [
        "# interpolate the convex hulls (linear interpolation)\n",
        "lch_interpolated = pd.Series({x[0]: x[1] for x in lch}, index=X, name='lch').interpolate()\n",
        "uch_interpolated = pd.Series({x[0]: x[1] for x in uch}, index=X, name='uch').interpolate()"
      ]
    },
    {
      "cell_type": "code",
      "execution_count": null,
      "metadata": {
        "id": "puq3AKXQiWap",
        "outputId": "a83c8140-3882-47c1-eb0c-db738b0887b1",
        "colab": {
          "base_uri": "https://localhost:8080/",
          "height": 281
        }
      },
      "outputs": [
        {
          "output_type": "display_data",
          "data": {
            "text/plain": [
              "<Figure size 432x288 with 1 Axes>"
            ],
            "image/png": "[encoded data removed]"
          },
          "metadata": {
            "needs_background": "light"
          }
        }
      ],
      "source": [
        "fig,ax = plt.subplots(1)\n",
        "\n",
        "# convex hulls\n",
        "ax.plot([x[0] for x in lch], [x[1] for x in lch], color = 'green')\n",
        "ax.plot([x[0] for x in uch], [x[1] for x in uch], color = 'red')\n",
        "\n",
        "# interpolated points\n",
        "ax.scatter(X, lch_interpolated, color='pink')\n",
        "ax.scatter(X, uch_interpolated, color='orange')\n",
        "\n",
        "# point estimates \n",
        "ax.scatter(X, volatilityEstimator(X))\n",
        "\n",
        "ax.set_xlabel(\"Price\")\n",
        "ax.set_ylabel(\"Estimated Volatility\")\n",
        "\n",
        "plt.show()"
      ]
    },
    {
      "cell_type": "code",
      "execution_count": null,
      "metadata": {
        "scrolled": true,
        "id": "mPupFyN6iWap",
        "outputId": "036599fd-58a8-45c0-8bd0-b7d2f3e06f5f",
        "colab": {
          "base_uri": "https://localhost:8080/",
          "height": 206
        }
      },
      "outputs": [
        {
          "output_type": "execute_result",
          "data": {
            "text/plain": [
              "   price           lch           uch   log_lch    log_uch  log_price\n",
              "0  32000  13020.791141  13020.791141  9.474303   9.474303  10.373491\n",
              "1  34000  12584.056701  16888.570536  9.440186   9.734392  10.434116\n",
              "2  36000  12465.639507  20756.349931  9.430731   9.940607  10.491274\n",
              "3  38000  12347.222314  24624.129326  9.421186  10.111482  10.545341\n",
              "4  40000  12228.805120  28491.908721  9.411550  10.257375  10.596635"
            ],
            "text/html": [
              "\n",
              "  <div id=\"df-9c58f267-db81-4e4b-adb7-c720a5916eaa\">\n",
              "    <div class=\"colab-df-container\">\n",
              "      <div>\n",
              "<style scoped>\n",
              "    .dataframe tbody tr th:only-of-type {\n",
              "        vertical-align: middle;\n",
              "    }\n",
              "\n",
              "    .dataframe tbody tr th {\n",
              "        vertical-align: top;\n",
              "    }\n",
              "\n",
              "    .dataframe thead th {\n",
              "        text-align: right;\n",
              "    }\n",
              "</style>\n",
              "<table border=\"1\" class=\"dataframe\">\n",
              "  <thead>\n",
              "    <tr style=\"text-align: right;\">\n",
              "      <th></th>\n",
              "      <th>price</th>\n",
              "      <th>lch</th>\n",
              "      <th>uch</th>\n",
              "      <th>log_lch</th>\n",
              "      <th>log_uch</th>\n",
              "      <th>log_price</th>\n",
              "    </tr>\n",
              "  </thead>\n",
              "  <tbody>\n",
              "    <tr>\n",
              "      <th>0</th>\n",
              "      <td>32000</td>\n",
              "      <td>13020.791141</td>\n",
              "      <td>13020.791141</td>\n",
              "      <td>9.474303</td>\n",
              "      <td>9.474303</td>\n",
              "      <td>10.373491</td>\n",
              "    </tr>\n",
              "    <tr>\n",
              "      <th>1</th>\n",
              "      <td>34000</td>\n",
              "      <td>12584.056701</td>\n",
              "      <td>16888.570536</td>\n",
              "      <td>9.440186</td>\n",
              "      <td>9.734392</td>\n",
              "      <td>10.434116</td>\n",
              "    </tr>\n",
              "    <tr>\n",
              "      <th>2</th>\n",
              "      <td>36000</td>\n",
              "      <td>12465.639507</td>\n",
              "      <td>20756.349931</td>\n",
              "      <td>9.430731</td>\n",
              "      <td>9.940607</td>\n",
              "      <td>10.491274</td>\n",
              "    </tr>\n",
              "    <tr>\n",
              "      <th>3</th>\n",
              "      <td>38000</td>\n",
              "      <td>12347.222314</td>\n",
              "      <td>24624.129326</td>\n",
              "      <td>9.421186</td>\n",
              "      <td>10.111482</td>\n",
              "      <td>10.545341</td>\n",
              "    </tr>\n",
              "    <tr>\n",
              "      <th>4</th>\n",
              "      <td>40000</td>\n",
              "      <td>12228.805120</td>\n",
              "      <td>28491.908721</td>\n",
              "      <td>9.411550</td>\n",
              "      <td>10.257375</td>\n",
              "      <td>10.596635</td>\n",
              "    </tr>\n",
              "  </tbody>\n",
              "</table>\n",
              "</div>\n",
              "      <button class=\"colab-df-convert\" onclick=\"convertToInteractive('df-9c58f267-db81-4e4b-adb7-c720a5916eaa')\"\n",
              "              title=\"Convert this dataframe to an interactive table.\"\n",
              "              style=\"display:none;\">\n",
              "        \n",
              "  <svg xmlns=\"http://www.w3.org/2000/svg\" height=\"24px\"viewBox=\"0 0 24 24\"\n",
              "       width=\"24px\">\n",
              "    <path d=\"M0 0h24v24H0V0z\" fill=\"none\"/>\n",
              "    <path d=\"M18.56 5.44l.94 2.06.94-2.06 2.06-.94-2.06-.94-.94-2.06-.94 2.06-2.06.94zm-11 1L8.5 8.5l.94-2.06 2.06-.94-2.06-.94L8.5 2.5l-.94 2.06-2.06.94zm10 10l.94 2.06.94-2.06 2.06-.94-2.06-.94-.94-2.06-.94 2.06-2.06.94z\"/><path d=\"M17.41 7.96l-1.37-1.37c-.4-.4-.92-.59-1.43-.59-.52 0-1.04.2-1.43.59L10.3 9.45l-7.72 7.72c-.78.78-.78 2.05 0 2.83L4 21.41c.39.39.9.59 1.41.59.51 0 1.02-.2 1.41-.59l7.78-7.78 2.81-2.81c.8-.78.8-2.07 0-2.86zM5.41 20L4 18.59l7.72-7.72 1.47 1.35L5.41 20z\"/>\n",
              "  </svg>\n",
              "      </button>\n",
              "      \n",
              "  <style>\n",
              "    .colab-df-container {\n",
              "      display:flex;\n",
              "      flex-wrap:wrap;\n",
              "      gap: 12px;\n",
              "    }\n",
              "\n",
              "    .colab-df-convert {\n",
              "      background-color: #E8F0FE;\n",
              "      border: none;\n",
              "      border-radius: 50%;\n",
              "      cursor: pointer;\n",
              "      display: none;\n",
              "      fill: #1967D2;\n",
              "      height: 32px;\n",
              "      padding: 0 0 0 0;\n",
              "      width: 32px;\n",
              "    }\n",
              "\n",
              "    .colab-df-convert:hover {\n",
              "      background-color: #E2EBFA;\n",
              "      box-shadow: 0px 1px 2px rgba(60, 64, 67, 0.3), 0px 1px 3px 1px rgba(60, 64, 67, 0.15);\n",
              "      fill: #174EA6;\n",
              "    }\n",
              "\n",
              "    [theme=dark] .colab-df-convert {\n",
              "      background-color: #3B4455;\n",
              "      fill: #D2E3FC;\n",
              "    }\n",
              "\n",
              "    [theme=dark] .colab-df-convert:hover {\n",
              "      background-color: #434B5C;\n",
              "      box-shadow: 0px 1px 3px 1px rgba(0, 0, 0, 0.15);\n",
              "      filter: drop-shadow(0px 1px 2px rgba(0, 0, 0, 0.3));\n",
              "      fill: #FFFFFF;\n",
              "    }\n",
              "  </style>\n",
              "\n",
              "      <script>\n",
              "        const buttonEl =\n",
              "          document.querySelector('#df-9c58f267-db81-4e4b-adb7-c720a5916eaa button.colab-df-convert');\n",
              "        buttonEl.style.display =\n",
              "          google.colab.kernel.accessAllowed ? 'block' : 'none';\n",
              "\n",
              "        async function convertToInteractive(key) {\n",
              "          const element = document.querySelector('#df-9c58f267-db81-4e4b-adb7-c720a5916eaa');\n",
              "          const dataTable =\n",
              "            await google.colab.kernel.invokeFunction('convertToInteractive',\n",
              "                                                     [key], {});\n",
              "          if (!dataTable) return;\n",
              "\n",
              "          const docLinkHtml = 'Like what you see? Visit the ' +\n",
              "            '<a target=\"_blank\" href=https://colab.research.google.com/notebooks/data_table.ipynb>data table notebook</a>'\n",
              "            + ' to learn more about interactive tables.';\n",
              "          element.innerHTML = '';\n",
              "          dataTable['output_type'] = 'display_data';\n",
              "          await google.colab.output.renderOutput(dataTable, element);\n",
              "          const docLink = document.createElement('div');\n",
              "          docLink.innerHTML = docLinkHtml;\n",
              "          element.appendChild(docLink);\n",
              "        }\n",
              "      </script>\n",
              "    </div>\n",
              "  </div>\n",
              "  "
            ]
          },
          "metadata": {},
          "execution_count": 39
        }
      ],
      "source": [
        "# transform variables for OLS\n",
        "hull = pd.concat([lch_interpolated, uch_interpolated], axis=1).reset_index().rename(columns={'index': 'price'})\n",
        "hull['log_lch'] = np.log(hull.lch)\n",
        "hull['log_uch'] = np.log(hull.uch)\n",
        "hull['log_price'] = np.log(hull.price)\n",
        "hull.head()"
      ]
    },
    {
      "cell_type": "code",
      "execution_count": null,
      "metadata": {
        "id": "pOyf9tHmiWaq",
        "outputId": "409149b4-0f39-4c92-8ffb-150c305f7e76",
        "colab": {
          "base_uri": "https://localhost:8080/"
        }
      },
      "outputs": [
        {
          "output_type": "stream",
          "name": "stdout",
          "text": [
            "Upper bound inconclusive--testing lower bound.\n",
            "Test inconclusive.\n"
          ]
        }
      ],
      "source": [
        "# Hypothesis testing\n",
        "\n",
        "#upper bound on integral\n",
        "Y1 = hull.log_lch\n",
        "X1 = hull.log_price\n",
        "X1 = sm.add_constant(X1)\n",
        "model1 = sm.OLS(Y1,X1)\n",
        "\n",
        "results1 = model1.fit()\n",
        "\n",
        "if (results1.params['log_price'] > 1 + 1.645*results1.bse['log_price']):\n",
        "    # reject the null hypothesis of \"No bubble\"\n",
        "    print(\"Test ends. There is a bubble.\")\n",
        "else: \n",
        "    print(\"Upper bound inconclusive--testing lower bound.\")\n",
        "    #lower bound on integral\n",
        "    Y2 = hull.log_uch\n",
        "    X2 = hull.log_price\n",
        "    X2 = sm.add_constant(X2)\n",
        "    model2 = sm.OLS(Y2,X2)\n",
        "\n",
        "    results2 = model2.fit()\n",
        "    \n",
        "    if (results2.params['log_price'] <= 1 - 1.645*results2.bse['log_price']):\n",
        "        # reject the null hypothesis of \"There is a bubble\"\n",
        "        print(\"Test ends. There is no bubble.\")\n",
        "    else: \n",
        "        print(\"Test inconclusive.\")"
      ]
    },
    {
      "cell_type": "markdown",
      "metadata": {
        "id": "DJZwQeICiWaq"
      },
      "source": [
        "# 2020-03-18 to 2021-06-01"
      ]
    },
    {
      "cell_type": "code",
      "execution_count": null,
      "metadata": {
        "id": "NBB00LYGiWaq"
      },
      "outputs": [],
      "source": [
        "start = pd.to_datetime(['2020-03-18']).astype(int)[0]//10**9 # convert to unix timestamp.\n",
        "end = pd.to_datetime(['2021-06-01']).astype(int)[0]//10**9 # convert to unix timestamp.\n",
        "url = 'https://query1.finance.yahoo.com/v7/finance/download/' + 'BTC-USD' + '?period1=' + str(start) + '&period2=' + str(end) + '&interval=1d&events=history'\n",
        "df = pd.read_csv(url)\n",
        "\n",
        "S=df.Close.tolist()"
      ]
    },
    {
      "cell_type": "code",
      "execution_count": null,
      "metadata": {
        "colab": {
          "base_uri": "https://localhost:8080/",
          "height": 265
        },
        "outputId": "4ffe9f9e-0df8-4aa0-e897-155b17f0b26d",
        "id": "zrV_Mat9iWaq"
      },
      "outputs": [
        {
          "output_type": "display_data",
          "data": {
            "text/plain": [
              "<Figure size 432x288 with 1 Axes>"
            ],
            "image/png": "[encoded data removed]"
          },
          "metadata": {
            "needs_background": "light"
          }
        }
      ],
      "source": [
        "plt.plot(pd.to_datetime(df.Date), df.Close)\n",
        "plt.show()"
      ]
    },
    {
      "cell_type": "code",
      "execution_count": null,
      "metadata": {
        "id": "BlU7x6pyiWar",
        "outputId": "0ab83ef7-576e-4c52-89eb-78d568c43664",
        "colab": {
          "base_uri": "https://localhost:8080/"
        }
      },
      "outputs": [
        {
          "output_type": "execute_result",
          "data": {
            "text/plain": [
              "count      441.000000\n",
              "mean     24207.931138\n",
              "std      18459.797960\n",
              "min       5238.438477\n",
              "25%       9593.896484\n",
              "50%      13031.173828\n",
              "75%      38402.222656\n",
              "max      63503.457031\n",
              "Name: Close, dtype: float64"
            ]
          },
          "metadata": {},
          "execution_count": 43
        }
      ],
      "source": [
        "df.Close.describe()"
      ]
    },
    {
      "cell_type": "code",
      "execution_count": null,
      "metadata": {
        "colab": {
          "base_uri": "https://localhost:8080/"
        },
        "outputId": "5635d08c-145f-42f3-cb3a-178634d54791",
        "id": "j1_I7WosiWar"
      },
      "outputs": [
        {
          "output_type": "stream",
          "name": "stdout",
          "text": [
            "17\n"
          ]
        },
        {
          "output_type": "execute_result",
          "data": {
            "text/plain": [
              "[5200,\n",
              " 8700,\n",
              " 12200,\n",
              " 15700,\n",
              " 19200,\n",
              " 22700,\n",
              " 26200,\n",
              " 29700,\n",
              " 33200,\n",
              " 36700,\n",
              " 40200,\n",
              " 43700,\n",
              " 47200,\n",
              " 50700,\n",
              " 54200,\n",
              " 57700,\n",
              " 61200]"
            ]
          },
          "metadata": {},
          "execution_count": 44
        }
      ],
      "source": [
        "X = list(range(5200, 63000, 3500))\n",
        "print(len(X))\n",
        "X"
      ]
    },
    {
      "cell_type": "code",
      "execution_count": null,
      "metadata": {
        "colab": {
          "base_uri": "https://localhost:8080/",
          "height": 279
        },
        "outputId": "25d60196-0f1c-4579-98e6-791ac13880d3",
        "id": "SBHT28WLiWar"
      },
      "outputs": [
        {
          "output_type": "display_data",
          "data": {
            "text/plain": [
              "<Figure size 432x288 with 1 Axes>"
            ],
            "image/png": "[encoded data removed]"
          },
          "metadata": {
            "needs_background": "light"
          }
        }
      ],
      "source": [
        "fig,ax = plt.subplots(1)\n",
        "\n",
        "# plot the data\n",
        "ax.scatter(X, volatilityEstimator(X))\n",
        "ax.set_xlabel(\"Price\")\n",
        "ax.set_ylabel(\"Estimated Volatility\")\n",
        "plt.show()"
      ]
    },
    {
      "cell_type": "code",
      "execution_count": null,
      "metadata": {
        "id": "OpIgMn4iiWar"
      },
      "outputs": [],
      "source": [
        "pairs = [(X[i], volatilityEstimator(X)[i]) for i in range(len(X))]"
      ]
    },
    {
      "cell_type": "code",
      "execution_count": null,
      "metadata": {
        "id": "ipMCabLliWas"
      },
      "outputs": [],
      "source": [
        "# lower convex hull\n",
        "i = 0\n",
        "lch = [pairs[i]]\n",
        "while (i < len(X) -1):\n",
        "    angles = {x:theta(x, i) for x in range(len(pairs)) if x>i}\n",
        "    i = min(angles, key=angles.get)\n",
        "    lch.append(pairs[i])\n",
        "\n",
        "# upper convex hull\n",
        "i = 0\n",
        "uch = [pairs[i]]\n",
        "while (i < len(X) -1):\n",
        "    angles = {x:theta(x, i) for x in range(len(pairs)) if x>i}\n",
        "    i = max(angles, key=angles.get)\n",
        "    uch.append(pairs[i])"
      ]
    },
    {
      "cell_type": "code",
      "execution_count": null,
      "metadata": {
        "id": "D2vPw-KSiWas"
      },
      "outputs": [],
      "source": [
        "# interpolate the convex hulls (linear interpolation)\n",
        "lch_interpolated = pd.Series({x[0]: x[1] for x in lch}, index=X, name='lch').interpolate()\n",
        "uch_interpolated = pd.Series({x[0]: x[1] for x in uch}, index=X, name='uch').interpolate()"
      ]
    },
    {
      "cell_type": "code",
      "execution_count": null,
      "metadata": {
        "id": "fylszeVqiWat",
        "outputId": "a993c378-3964-4488-ee1e-71caac3b044b",
        "colab": {
          "base_uri": "https://localhost:8080/",
          "height": 279
        }
      },
      "outputs": [
        {
          "output_type": "display_data",
          "data": {
            "text/plain": [
              "<Figure size 432x288 with 1 Axes>"
            ],
            "image/png": "[encoded data removed]"
          },
          "metadata": {
            "needs_background": "light"
          }
        }
      ],
      "source": [
        "fig,ax = plt.subplots(1)\n",
        "\n",
        "# convex hulls\n",
        "ax.plot([x[0] for x in lch], [x[1] for x in lch], color = 'green')\n",
        "ax.plot([x[0] for x in uch], [x[1] for x in uch], color = 'red')\n",
        "\n",
        "# interpolated points\n",
        "ax.scatter(X, lch_interpolated, color='pink')\n",
        "ax.scatter(X, uch_interpolated, color='orange')\n",
        "\n",
        "# point estimates \n",
        "ax.scatter(X, volatilityEstimator(X))\n",
        "\n",
        "ax.set_xlabel(\"Price\")\n",
        "ax.set_ylabel(\"Estimated Volatility\")\n",
        "\n",
        "plt.show()"
      ]
    },
    {
      "cell_type": "code",
      "execution_count": null,
      "metadata": {
        "scrolled": true,
        "id": "xQ8t7zayiWat",
        "outputId": "bcdbe882-487c-494d-ccc2-e298b11a1da1",
        "colab": {
          "base_uri": "https://localhost:8080/",
          "height": 206
        }
      },
      "outputs": [
        {
          "output_type": "execute_result",
          "data": {
            "text/plain": [
              "   price           lch           uch   log_lch    log_uch  log_price\n",
              "0   5200  20007.842274  20007.842274  9.903880   9.903880   8.556414\n",
              "1   8700   3576.793948  25408.924794  8.182222  10.142856   9.071078\n",
              "2  12200   4538.144241  30810.007314  8.420273  10.335595   9.409191\n",
              "3  15700   5499.494533  36211.089834  8.612411  10.497121   9.661416\n",
              "4  19200   6460.844826  41612.172354  8.773515  10.636148   9.862666"
            ],
            "text/html": [
              "\n",
              "  <div id=\"df-4177c220-cc0d-4ba7-96a8-9071f58a1f15\">\n",
              "    <div class=\"colab-df-container\">\n",
              "      <div>\n",
              "<style scoped>\n",
              "    .dataframe tbody tr th:only-of-type {\n",
              "        vertical-align: middle;\n",
              "    }\n",
              "\n",
              "    .dataframe tbody tr th {\n",
              "        vertical-align: top;\n",
              "    }\n",
              "\n",
              "    .dataframe thead th {\n",
              "        text-align: right;\n",
              "    }\n",
              "</style>\n",
              "<table border=\"1\" class=\"dataframe\">\n",
              "  <thead>\n",
              "    <tr style=\"text-align: right;\">\n",
              "      <th></th>\n",
              "      <th>price</th>\n",
              "      <th>lch</th>\n",
              "      <th>uch</th>\n",
              "      <th>log_lch</th>\n",
              "      <th>log_uch</th>\n",
              "      <th>log_price</th>\n",
              "    </tr>\n",
              "  </thead>\n",
              "  <tbody>\n",
              "    <tr>\n",
              "      <th>0</th>\n",
              "      <td>5200</td>\n",
              "      <td>20007.842274</td>\n",
              "      <td>20007.842274</td>\n",
              "      <td>9.903880</td>\n",
              "      <td>9.903880</td>\n",
              "      <td>8.556414</td>\n",
              "    </tr>\n",
              "    <tr>\n",
              "      <th>1</th>\n",
              "      <td>8700</td>\n",
              "      <td>3576.793948</td>\n",
              "      <td>25408.924794</td>\n",
              "      <td>8.182222</td>\n",
              "      <td>10.142856</td>\n",
              "      <td>9.071078</td>\n",
              "    </tr>\n",
              "    <tr>\n",
              "      <th>2</th>\n",
              "      <td>12200</td>\n",
              "      <td>4538.144241</td>\n",
              "      <td>30810.007314</td>\n",
              "      <td>8.420273</td>\n",
              "      <td>10.335595</td>\n",
              "      <td>9.409191</td>\n",
              "    </tr>\n",
              "    <tr>\n",
              "      <th>3</th>\n",
              "      <td>15700</td>\n",
              "      <td>5499.494533</td>\n",
              "      <td>36211.089834</td>\n",
              "      <td>8.612411</td>\n",
              "      <td>10.497121</td>\n",
              "      <td>9.661416</td>\n",
              "    </tr>\n",
              "    <tr>\n",
              "      <th>4</th>\n",
              "      <td>19200</td>\n",
              "      <td>6460.844826</td>\n",
              "      <td>41612.172354</td>\n",
              "      <td>8.773515</td>\n",
              "      <td>10.636148</td>\n",
              "      <td>9.862666</td>\n",
              "    </tr>\n",
              "  </tbody>\n",
              "</table>\n",
              "</div>\n",
              "      <button class=\"colab-df-convert\" onclick=\"convertToInteractive('df-4177c220-cc0d-4ba7-96a8-9071f58a1f15')\"\n",
              "              title=\"Convert this dataframe to an interactive table.\"\n",
              "              style=\"display:none;\">\n",
              "        \n",
              "  <svg xmlns=\"http://www.w3.org/2000/svg\" height=\"24px\"viewBox=\"0 0 24 24\"\n",
              "       width=\"24px\">\n",
              "    <path d=\"M0 0h24v24H0V0z\" fill=\"none\"/>\n",
              "    <path d=\"M18.56 5.44l.94 2.06.94-2.06 2.06-.94-2.06-.94-.94-2.06-.94 2.06-2.06.94zm-11 1L8.5 8.5l.94-2.06 2.06-.94-2.06-.94L8.5 2.5l-.94 2.06-2.06.94zm10 10l.94 2.06.94-2.06 2.06-.94-2.06-.94-.94-2.06-.94 2.06-2.06.94z\"/><path d=\"M17.41 7.96l-1.37-1.37c-.4-.4-.92-.59-1.43-.59-.52 0-1.04.2-1.43.59L10.3 9.45l-7.72 7.72c-.78.78-.78 2.05 0 2.83L4 21.41c.39.39.9.59 1.41.59.51 0 1.02-.2 1.41-.59l7.78-7.78 2.81-2.81c.8-.78.8-2.07 0-2.86zM5.41 20L4 18.59l7.72-7.72 1.47 1.35L5.41 20z\"/>\n",
              "  </svg>\n",
              "      </button>\n",
              "      \n",
              "  <style>\n",
              "    .colab-df-container {\n",
              "      display:flex;\n",
              "      flex-wrap:wrap;\n",
              "      gap: 12px;\n",
              "    }\n",
              "\n",
              "    .colab-df-convert {\n",
              "      background-color: #E8F0FE;\n",
              "      border: none;\n",
              "      border-radius: 50%;\n",
              "      cursor: pointer;\n",
              "      display: none;\n",
              "      fill: #1967D2;\n",
              "      height: 32px;\n",
              "      padding: 0 0 0 0;\n",
              "      width: 32px;\n",
              "    }\n",
              "\n",
              "    .colab-df-convert:hover {\n",
              "      background-color: #E2EBFA;\n",
              "      box-shadow: 0px 1px 2px rgba(60, 64, 67, 0.3), 0px 1px 3px 1px rgba(60, 64, 67, 0.15);\n",
              "      fill: #174EA6;\n",
              "    }\n",
              "\n",
              "    [theme=dark] .colab-df-convert {\n",
              "      background-color: #3B4455;\n",
              "      fill: #D2E3FC;\n",
              "    }\n",
              "\n",
              "    [theme=dark] .colab-df-convert:hover {\n",
              "      background-color: #434B5C;\n",
              "      box-shadow: 0px 1px 3px 1px rgba(0, 0, 0, 0.15);\n",
              "      filter: drop-shadow(0px 1px 2px rgba(0, 0, 0, 0.3));\n",
              "      fill: #FFFFFF;\n",
              "    }\n",
              "  </style>\n",
              "\n",
              "      <script>\n",
              "        const buttonEl =\n",
              "          document.querySelector('#df-4177c220-cc0d-4ba7-96a8-9071f58a1f15 button.colab-df-convert');\n",
              "        buttonEl.style.display =\n",
              "          google.colab.kernel.accessAllowed ? 'block' : 'none';\n",
              "\n",
              "        async function convertToInteractive(key) {\n",
              "          const element = document.querySelector('#df-4177c220-cc0d-4ba7-96a8-9071f58a1f15');\n",
              "          const dataTable =\n",
              "            await google.colab.kernel.invokeFunction('convertToInteractive',\n",
              "                                                     [key], {});\n",
              "          if (!dataTable) return;\n",
              "\n",
              "          const docLinkHtml = 'Like what you see? Visit the ' +\n",
              "            '<a target=\"_blank\" href=https://colab.research.google.com/notebooks/data_table.ipynb>data table notebook</a>'\n",
              "            + ' to learn more about interactive tables.';\n",
              "          element.innerHTML = '';\n",
              "          dataTable['output_type'] = 'display_data';\n",
              "          await google.colab.output.renderOutput(dataTable, element);\n",
              "          const docLink = document.createElement('div');\n",
              "          docLink.innerHTML = docLinkHtml;\n",
              "          element.appendChild(docLink);\n",
              "        }\n",
              "      </script>\n",
              "    </div>\n",
              "  </div>\n",
              "  "
            ]
          },
          "metadata": {},
          "execution_count": 50
        }
      ],
      "source": [
        "# transform variables for OLS\n",
        "hull = pd.concat([lch_interpolated, uch_interpolated], axis=1).reset_index().rename(columns={'index': 'price'})\n",
        "hull['log_lch'] = np.log(hull.lch)\n",
        "hull['log_uch'] = np.log(hull.uch)\n",
        "hull['log_price'] = np.log(hull.price)\n",
        "hull.head()"
      ]
    },
    {
      "cell_type": "code",
      "execution_count": null,
      "metadata": {
        "id": "uC_8DVM_iWat",
        "outputId": "1791a7b2-89a2-4398-ec8d-6f69a4d8858b",
        "colab": {
          "base_uri": "https://localhost:8080/"
        }
      },
      "outputs": [
        {
          "output_type": "stream",
          "name": "stdout",
          "text": [
            "Upper bound inconclusive--testing lower bound.\n",
            "Test ends. There is no bubble.\n"
          ]
        }
      ],
      "source": [
        "# Hypothesis testing\n",
        "\n",
        "#upper bound on integral\n",
        "Y1 = hull.log_lch\n",
        "X1 = hull.log_price\n",
        "X1 = sm.add_constant(X1)\n",
        "model1 = sm.OLS(Y1,X1)\n",
        "\n",
        "results1 = model1.fit()\n",
        "\n",
        "if (results1.params['log_price'] > 1 + 1.645*results1.bse['log_price']):\n",
        "    # reject the null hypothesis of \"No bubble\"\n",
        "    print(\"Test ends. There is a bubble.\")\n",
        "else: \n",
        "    print(\"Upper bound inconclusive--testing lower bound.\")\n",
        "    #lower bound on integral\n",
        "    Y2 = hull.log_uch\n",
        "    X2 = hull.log_price\n",
        "    X2 = sm.add_constant(X2)\n",
        "    model2 = sm.OLS(Y2,X2)\n",
        "\n",
        "    results2 = model2.fit()\n",
        "    \n",
        "    if (results2.params['log_price'] <= 1 - 1.645*results2.bse['log_price']):\n",
        "        # reject the null hypothesis of \"There is a bubble\"\n",
        "        print(\"Test ends. There is no bubble.\")\n",
        "    else: \n",
        "        print(\"Test inconclusive.\")"
      ]
    },
    {
      "cell_type": "markdown",
      "metadata": {
        "id": "f_TYUYEYiWau"
      },
      "source": [
        "# Testing a longer time frame: 2019 to present"
      ]
    },
    {
      "cell_type": "code",
      "execution_count": null,
      "metadata": {
        "id": "F_RFjy2IiWau"
      },
      "outputs": [],
      "source": [
        "start = pd.to_datetime(['2019-01-01']).astype(int)[0]//10**9 # convert to unix timestamp.\n",
        "end = pd.to_datetime(['2022-10-01']).astype(int)[0]//10**9 # convert to unix timestamp.\n",
        "url = 'https://query1.finance.yahoo.com/v7/finance/download/' + 'BTC-USD' + '?period1=' + str(start) + '&period2=' + str(end) + '&interval=1d&events=history'\n",
        "df = pd.read_csv(url)\n",
        "\n",
        "S=df.Close.tolist()"
      ]
    },
    {
      "cell_type": "code",
      "execution_count": null,
      "metadata": {
        "colab": {
          "base_uri": "https://localhost:8080/",
          "height": 267
        },
        "outputId": "75ca80db-1b92-4a13-d61f-4e5a887cd0d8",
        "id": "la5iHkTKiWau"
      },
      "outputs": [
        {
          "output_type": "display_data",
          "data": {
            "text/plain": [
              "<Figure size 432x288 with 1 Axes>"
            ],
            "image/png": "[encoded data removed]"
          },
          "metadata": {
            "needs_background": "light"
          }
        }
      ],
      "source": [
        "plt.plot(pd.to_datetime(df.Date), df.Close)\n",
        "\n",
        "plt.show()"
      ]
    },
    {
      "cell_type": "code",
      "execution_count": null,
      "metadata": {
        "id": "Zun7YbVOiWav",
        "outputId": "34371d4d-ee5f-435b-c922-4782c7623c43",
        "colab": {
          "base_uri": "https://localhost:8080/"
        }
      },
      "outputs": [
        {
          "output_type": "execute_result",
          "data": {
            "text/plain": [
              "count     1370.000000\n",
              "mean     23891.389202\n",
              "std      18067.330580\n",
              "min       3399.471680\n",
              "25%       8876.619629\n",
              "50%      16516.959961\n",
              "75%      39513.109375\n",
              "max      67566.828125\n",
              "Name: Close, dtype: float64"
            ]
          },
          "metadata": {},
          "execution_count": 54
        }
      ],
      "source": [
        "df.Close.describe()"
      ]
    },
    {
      "cell_type": "code",
      "execution_count": null,
      "metadata": {
        "colab": {
          "base_uri": "https://localhost:8080/"
        },
        "outputId": "5ceafa95-c905-4317-bb9e-4777c15670f2",
        "id": "tPAPDj0FiWav"
      },
      "outputs": [
        {
          "output_type": "stream",
          "name": "stdout",
          "text": [
            "16\n"
          ]
        },
        {
          "output_type": "execute_result",
          "data": {
            "text/plain": [
              "[18000,\n",
              " 20900,\n",
              " 23800,\n",
              " 26700,\n",
              " 29600,\n",
              " 32500,\n",
              " 35400,\n",
              " 38300,\n",
              " 41200,\n",
              " 44100,\n",
              " 47000,\n",
              " 49900,\n",
              " 52800,\n",
              " 55700,\n",
              " 58600,\n",
              " 61500]"
            ]
          },
          "metadata": {},
          "execution_count": 55
        }
      ],
      "source": [
        "X = list(range(18000, 63000, 2900))\n",
        "print(len(X))\n",
        "X"
      ]
    },
    {
      "cell_type": "code",
      "execution_count": null,
      "metadata": {
        "colab": {
          "base_uri": "https://localhost:8080/",
          "height": 281
        },
        "outputId": "8973db12-3ce5-4463-864a-81056c92b941",
        "id": "AW-5NTJxiWav"
      },
      "outputs": [
        {
          "output_type": "display_data",
          "data": {
            "text/plain": [
              "<Figure size 432x288 with 1 Axes>"
            ],
            "image/png": "[encoded data removed]"
          },
          "metadata": {
            "needs_background": "light"
          }
        }
      ],
      "source": [
        "fig,ax = plt.subplots(1)\n",
        "\n",
        "# plot the data\n",
        "ax.scatter(X, volatilityEstimator(X))\n",
        "ax.set_xlabel(\"Price\")\n",
        "ax.set_ylabel(\"Estimated Volatility\")\n",
        "plt.show()"
      ]
    },
    {
      "cell_type": "code",
      "execution_count": null,
      "metadata": {
        "id": "PASAFD2aiWaw"
      },
      "outputs": [],
      "source": [
        "pairs = [(X[i], volatilityEstimator(X)[i]) for i in range(len(X))]"
      ]
    },
    {
      "cell_type": "code",
      "execution_count": null,
      "metadata": {
        "id": "Sads3RKNiWaw"
      },
      "outputs": [],
      "source": [
        "# lower convex hull\n",
        "i = 0\n",
        "lch = [pairs[i]]\n",
        "while (i < len(X) -1):\n",
        "    angles = {x:theta(x, i) for x in range(len(pairs)) if x>i}\n",
        "    i = min(angles, key=angles.get)\n",
        "    lch.append(pairs[i])\n",
        "\n",
        "# upper convex hull\n",
        "i = 0\n",
        "uch = [pairs[i]]\n",
        "while (i < len(X) -1):\n",
        "    angles = {x:theta(x, i) for x in range(len(pairs)) if x>i}\n",
        "    i = max(angles, key=angles.get)\n",
        "    uch.append(pairs[i])"
      ]
    },
    {
      "cell_type": "code",
      "execution_count": null,
      "metadata": {
        "id": "pWgrMWgtiWaw"
      },
      "outputs": [],
      "source": [
        "# interpolate the convex hulls (linear interpolation)\n",
        "lch_interpolated = pd.Series({x[0]: x[1] for x in lch}, index=X, name='lch').interpolate()\n",
        "uch_interpolated = pd.Series({x[0]: x[1] for x in uch}, index=X, name='uch').interpolate()"
      ]
    },
    {
      "cell_type": "code",
      "execution_count": null,
      "metadata": {
        "id": "CAsq0_PviWax",
        "outputId": "838dcd1b-1706-4f37-cd89-3397d1186057",
        "colab": {
          "base_uri": "https://localhost:8080/",
          "height": 281
        }
      },
      "outputs": [
        {
          "output_type": "display_data",
          "data": {
            "text/plain": [
              "<Figure size 432x288 with 1 Axes>"
            ],
            "image/png": "[encoded data removed]"
          },
          "metadata": {
            "needs_background": "light"
          }
        }
      ],
      "source": [
        "fig,ax = plt.subplots(1)\n",
        "\n",
        "# convex hulls\n",
        "ax.plot([x[0] for x in lch], [x[1] for x in lch], color = 'green')\n",
        "ax.plot([x[0] for x in uch], [x[1] for x in uch], color = 'red')\n",
        "\n",
        "# interpolated points\n",
        "ax.scatter(X, lch_interpolated, color='pink')\n",
        "ax.scatter(X, uch_interpolated, color='orange')\n",
        "\n",
        "# point estimates \n",
        "ax.scatter(X, volatilityEstimator(X))\n",
        "\n",
        "ax.set_xlabel(\"Price\")\n",
        "ax.set_ylabel(\"Estimated Volatility\")\n",
        "\n",
        "plt.show()"
      ]
    },
    {
      "cell_type": "code",
      "execution_count": null,
      "metadata": {
        "scrolled": true,
        "id": "91aMDgd1iWax",
        "outputId": "9becf72a-0f69-4be8-f828-4de575711d90",
        "colab": {
          "base_uri": "https://localhost:8080/",
          "height": 206
        }
      },
      "outputs": [
        {
          "output_type": "execute_result",
          "data": {
            "text/plain": [
              "   price           lch           uch    log_lch    log_uch  log_price\n",
              "0  18000  23945.750615  23945.750615  10.083546  10.083546   9.798127\n",
              "1  20900  20016.373077  42883.401180   9.904306  10.666240   9.947504\n",
              "2  23800  16086.995538  61821.051744   9.685766  11.031999  10.077441\n",
              "3  26700  18101.957364  80758.702309   9.803775  11.299221  10.192419\n",
              "4  29600  20116.919189  89000.993949   9.909316  11.396403  10.295530"
            ],
            "text/html": [
              "\n",
              "  <div id=\"df-ff907b07-d05e-4838-a67b-e4dec7e5e3ff\">\n",
              "    <div class=\"colab-df-container\">\n",
              "      <div>\n",
              "<style scoped>\n",
              "    .dataframe tbody tr th:only-of-type {\n",
              "        vertical-align: middle;\n",
              "    }\n",
              "\n",
              "    .dataframe tbody tr th {\n",
              "        vertical-align: top;\n",
              "    }\n",
              "\n",
              "    .dataframe thead th {\n",
              "        text-align: right;\n",
              "    }\n",
              "</style>\n",
              "<table border=\"1\" class=\"dataframe\">\n",
              "  <thead>\n",
              "    <tr style=\"text-align: right;\">\n",
              "      <th></th>\n",
              "      <th>price</th>\n",
              "      <th>lch</th>\n",
              "      <th>uch</th>\n",
              "      <th>log_lch</th>\n",
              "      <th>log_uch</th>\n",
              "      <th>log_price</th>\n",
              "    </tr>\n",
              "  </thead>\n",
              "  <tbody>\n",
              "    <tr>\n",
              "      <th>0</th>\n",
              "      <td>18000</td>\n",
              "      <td>23945.750615</td>\n",
              "      <td>23945.750615</td>\n",
              "      <td>10.083546</td>\n",
              "      <td>10.083546</td>\n",
              "      <td>9.798127</td>\n",
              "    </tr>\n",
              "    <tr>\n",
              "      <th>1</th>\n",
              "      <td>20900</td>\n",
              "      <td>20016.373077</td>\n",
              "      <td>42883.401180</td>\n",
              "      <td>9.904306</td>\n",
              "      <td>10.666240</td>\n",
              "      <td>9.947504</td>\n",
              "    </tr>\n",
              "    <tr>\n",
              "      <th>2</th>\n",
              "      <td>23800</td>\n",
              "      <td>16086.995538</td>\n",
              "      <td>61821.051744</td>\n",
              "      <td>9.685766</td>\n",
              "      <td>11.031999</td>\n",
              "      <td>10.077441</td>\n",
              "    </tr>\n",
              "    <tr>\n",
              "      <th>3</th>\n",
              "      <td>26700</td>\n",
              "      <td>18101.957364</td>\n",
              "      <td>80758.702309</td>\n",
              "      <td>9.803775</td>\n",
              "      <td>11.299221</td>\n",
              "      <td>10.192419</td>\n",
              "    </tr>\n",
              "    <tr>\n",
              "      <th>4</th>\n",
              "      <td>29600</td>\n",
              "      <td>20116.919189</td>\n",
              "      <td>89000.993949</td>\n",
              "      <td>9.909316</td>\n",
              "      <td>11.396403</td>\n",
              "      <td>10.295530</td>\n",
              "    </tr>\n",
              "  </tbody>\n",
              "</table>\n",
              "</div>\n",
              "      <button class=\"colab-df-convert\" onclick=\"convertToInteractive('df-ff907b07-d05e-4838-a67b-e4dec7e5e3ff')\"\n",
              "              title=\"Convert this dataframe to an interactive table.\"\n",
              "              style=\"display:none;\">\n",
              "        \n",
              "  <svg xmlns=\"http://www.w3.org/2000/svg\" height=\"24px\"viewBox=\"0 0 24 24\"\n",
              "       width=\"24px\">\n",
              "    <path d=\"M0 0h24v24H0V0z\" fill=\"none\"/>\n",
              "    <path d=\"M18.56 5.44l.94 2.06.94-2.06 2.06-.94-2.06-.94-.94-2.06-.94 2.06-2.06.94zm-11 1L8.5 8.5l.94-2.06 2.06-.94-2.06-.94L8.5 2.5l-.94 2.06-2.06.94zm10 10l.94 2.06.94-2.06 2.06-.94-2.06-.94-.94-2.06-.94 2.06-2.06.94z\"/><path d=\"M17.41 7.96l-1.37-1.37c-.4-.4-.92-.59-1.43-.59-.52 0-1.04.2-1.43.59L10.3 9.45l-7.72 7.72c-.78.78-.78 2.05 0 2.83L4 21.41c.39.39.9.59 1.41.59.51 0 1.02-.2 1.41-.59l7.78-7.78 2.81-2.81c.8-.78.8-2.07 0-2.86zM5.41 20L4 18.59l7.72-7.72 1.47 1.35L5.41 20z\"/>\n",
              "  </svg>\n",
              "      </button>\n",
              "      \n",
              "  <style>\n",
              "    .colab-df-container {\n",
              "      display:flex;\n",
              "      flex-wrap:wrap;\n",
              "      gap: 12px;\n",
              "    }\n",
              "\n",
              "    .colab-df-convert {\n",
              "      background-color: #E8F0FE;\n",
              "      border: none;\n",
              "      border-radius: 50%;\n",
              "      cursor: pointer;\n",
              "      display: none;\n",
              "      fill: #1967D2;\n",
              "      height: 32px;\n",
              "      padding: 0 0 0 0;\n",
              "      width: 32px;\n",
              "    }\n",
              "\n",
              "    .colab-df-convert:hover {\n",
              "      background-color: #E2EBFA;\n",
              "      box-shadow: 0px 1px 2px rgba(60, 64, 67, 0.3), 0px 1px 3px 1px rgba(60, 64, 67, 0.15);\n",
              "      fill: #174EA6;\n",
              "    }\n",
              "\n",
              "    [theme=dark] .colab-df-convert {\n",
              "      background-color: #3B4455;\n",
              "      fill: #D2E3FC;\n",
              "    }\n",
              "\n",
              "    [theme=dark] .colab-df-convert:hover {\n",
              "      background-color: #434B5C;\n",
              "      box-shadow: 0px 1px 3px 1px rgba(0, 0, 0, 0.15);\n",
              "      filter: drop-shadow(0px 1px 2px rgba(0, 0, 0, 0.3));\n",
              "      fill: #FFFFFF;\n",
              "    }\n",
              "  </style>\n",
              "\n",
              "      <script>\n",
              "        const buttonEl =\n",
              "          document.querySelector('#df-ff907b07-d05e-4838-a67b-e4dec7e5e3ff button.colab-df-convert');\n",
              "        buttonEl.style.display =\n",
              "          google.colab.kernel.accessAllowed ? 'block' : 'none';\n",
              "\n",
              "        async function convertToInteractive(key) {\n",
              "          const element = document.querySelector('#df-ff907b07-d05e-4838-a67b-e4dec7e5e3ff');\n",
              "          const dataTable =\n",
              "            await google.colab.kernel.invokeFunction('convertToInteractive',\n",
              "                                                     [key], {});\n",
              "          if (!dataTable) return;\n",
              "\n",
              "          const docLinkHtml = 'Like what you see? Visit the ' +\n",
              "            '<a target=\"_blank\" href=https://colab.research.google.com/notebooks/data_table.ipynb>data table notebook</a>'\n",
              "            + ' to learn more about interactive tables.';\n",
              "          element.innerHTML = '';\n",
              "          dataTable['output_type'] = 'display_data';\n",
              "          await google.colab.output.renderOutput(dataTable, element);\n",
              "          const docLink = document.createElement('div');\n",
              "          docLink.innerHTML = docLinkHtml;\n",
              "          element.appendChild(docLink);\n",
              "        }\n",
              "      </script>\n",
              "    </div>\n",
              "  </div>\n",
              "  "
            ]
          },
          "metadata": {},
          "execution_count": 61
        }
      ],
      "source": [
        "# transform variables for OLS\n",
        "hull = pd.concat([lch_interpolated, uch_interpolated], axis=1).reset_index().rename(columns={'index': 'price'})\n",
        "hull['log_lch'] = np.log(hull.lch)\n",
        "hull['log_uch'] = np.log(hull.uch)\n",
        "hull['log_price'] = np.log(hull.price)\n",
        "hull.head()"
      ]
    },
    {
      "cell_type": "code",
      "execution_count": null,
      "metadata": {
        "id": "443K27QViWax",
        "outputId": "9d8c1368-ab0e-4ef2-96fe-2c54cf03ed7a",
        "colab": {
          "base_uri": "https://localhost:8080/"
        }
      },
      "outputs": [
        {
          "output_type": "stream",
          "name": "stdout",
          "text": [
            "Upper bound inconclusive--testing lower bound.\n",
            "Test inconclusive.\n"
          ]
        }
      ],
      "source": [
        "# Hypothesis testing\n",
        "\n",
        "#upper bound on integral\n",
        "Y1 = hull.log_lch\n",
        "X1 = hull.log_price\n",
        "X1 = sm.add_constant(X1)\n",
        "model1 = sm.OLS(Y1,X1)\n",
        "\n",
        "results1 = model1.fit()\n",
        "\n",
        "if (results1.params['log_price'] > 1 + 1.645*results1.bse['log_price']):\n",
        "    # reject the null hypothesis of \"No bubble\"\n",
        "    print(\"Test ends. There is a bubble.\")\n",
        "else: \n",
        "    print(\"Upper bound inconclusive--testing lower bound.\")\n",
        "    #lower bound on integral\n",
        "    Y2 = hull.log_uch\n",
        "    X2 = hull.log_price\n",
        "    X2 = sm.add_constant(X2)\n",
        "    model2 = sm.OLS(Y2,X2)\n",
        "\n",
        "    results2 = model2.fit()\n",
        "    \n",
        "    if (results2.params['log_price'] <= 1 - 1.645*results2.bse['log_price']):\n",
        "        # reject the null hypothesis of \"There is a bubble\"\n",
        "        print(\"Test ends. There is no bubble.\")\n",
        "    else: \n",
        "        print(\"Test inconclusive.\")"
      ]
    },
    {
      "cell_type": "code",
      "source": [],
      "metadata": {
        "id": "eFIc-ATfjz52"
      },
      "execution_count": null,
      "outputs": []
    }
  ],
  "metadata": {
    "colab": {
      "collapsed_sections": [],
      "provenance": []
    },
    "kernelspec": {
      "display_name": "Python 3 (ipykernel)",
      "language": "python",
      "name": "python3"
    },
    "language_info": {
      "codemirror_mode": {
        "name": "ipython",
        "version": 3
      },
      "file_extension": ".py",
      "mimetype": "text/x-python",
      "name": "python",
      "nbconvert_exporter": "python",
      "pygments_lexer": "ipython3",
      "version": "3.9.7"
    }
  },
  "nbformat": 4,
  "nbformat_minor": 0
}